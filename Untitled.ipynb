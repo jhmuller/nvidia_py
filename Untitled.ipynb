{
 "cells": [
  {
   "cell_type": "code",
   "execution_count": 1,
   "id": "3bbb8a91",
   "metadata": {},
   "outputs": [],
   "source": [
    "import os\n",
    "import sys\n",
    "import nvgpu\n",
    "import GPUtil as gpu\n",
    "import datetime"
   ]
  },
  {
   "cell_type": "code",
   "execution_count": 2,
   "id": "e56d9872",
   "metadata": {},
   "outputs": [
    {
     "data": {
      "text/plain": [
       "['0']"
      ]
     },
     "execution_count": 2,
     "metadata": {},
     "output_type": "execute_result"
    }
   ],
   "source": [
    "nvgpu.available_gpus()"
   ]
  },
  {
   "cell_type": "code",
   "execution_count": 3,
   "id": "d18a9cdb",
   "metadata": {},
   "outputs": [
    {
     "data": {
      "text/plain": [
       "[{'index': '0',\n",
       "  'type': 'NVIDIA GeForce GTX 1660 SUPER',\n",
       "  'uuid': 'GPU-e5403f21-ca7c-00be-d65d-2bda29429890',\n",
       "  'mem_used': 1087,\n",
       "  'mem_total': 6144,\n",
       "  'mem_used_percent': 17.692057291666668}]"
      ]
     },
     "execution_count": 3,
     "metadata": {},
     "output_type": "execute_result"
    }
   ],
   "source": [
    "nvgpu.gpu_info()"
   ]
  },
  {
   "cell_type": "code",
   "execution_count": 5,
   "id": "a1b45fff",
   "metadata": {},
   "outputs": [
    {
     "data": {
      "text/plain": [
       "['GPU',\n",
       " 'GPUtil',\n",
       " 'getAvailability',\n",
       " 'getAvailable',\n",
       " 'getFirstAvailable',\n",
       " 'getGPUs',\n",
       " 'showUtilization']"
      ]
     },
     "execution_count": 5,
     "metadata": {},
     "output_type": "execute_result"
    }
   ],
   "source": [
    "def get_dir(obj, excl_start=\"_\", incl_end=\"\"):\n",
    "    res = [x for x in dir(obj) if (not x.startswith(excl_start)) and (x.endswith(incl_end))]\n",
    "    return res\n",
    "get_dir(gpu)\n",
    "#get_dir(nvgpu)"
   ]
  },
  {
   "cell_type": "code",
   "execution_count": 12,
   "id": "5a8eb5d3",
   "metadata": {},
   "outputs": [
    {
     "name": "stdout",
     "output_type": "stream",
     "text": [
      "| ID | GPU | MEM |\n",
      "------------------\n",
      "|  0 |  1% | 86% |\n",
      "['display_active', 'display_mode', 'driver', 'id', 'load', 'memoryFree', 'memoryTotal', 'memoryUsed', 'memoryUtil', 'name', 'serial', 'temperature', 'uuid']\n",
      "id: 0, uuid: GPU-e5403f21-ca7c-00be-d65d-2bda29429890, mem_total: 6144.0 load: 0.01 temp: 44.0\n"
     ]
    }
   ],
   "source": [
    "gpu.showUtilization()\n",
    "gpus = gpu.getGPUs()\n",
    "thisgpu = gpus[0]\n",
    "gpu.getAvailable()\n",
    "res = get_dir(gpus[0])\n",
    "print(res)\n",
    "print(f\"id: {thisgpu.id}, uuid: {thisgpu.uuid}, mem_total: {thisgpu.memoryTotal} load: {thisgpu.load} temp: {thisgpu.temperature}\")\n"
   ]
  },
  {
   "cell_type": "code",
   "execution_count": null,
   "id": "fcfa4862",
   "metadata": {},
   "outputs": [],
   "source": []
  },
  {
   "cell_type": "code",
   "execution_count": null,
   "id": "1c34865e",
   "metadata": {},
   "outputs": [],
   "source": []
  }
 ],
 "metadata": {
  "kernelspec": {
   "display_name": "nvidia_py",
   "language": "python",
   "name": "nvidia_py"
  },
  "language_info": {
   "codemirror_mode": {
    "name": "ipython",
    "version": 3
   },
   "file_extension": ".py",
   "mimetype": "text/x-python",
   "name": "python",
   "nbconvert_exporter": "python",
   "pygments_lexer": "ipython3",
   "version": "3.8.13"
  }
 },
 "nbformat": 4,
 "nbformat_minor": 5
}
