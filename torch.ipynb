{
 "cells": [
  {
   "cell_type": "code",
   "execution_count": 1,
   "id": "4bebc343",
   "metadata": {},
   "outputs": [
    {
     "name": "stdout",
     "output_type": "stream",
     "text": [
      "/home/john/anaconda3/envs/pgenv/bin/python 2022-05-01 18:26:00.060938\n"
     ]
    }
   ],
   "source": [
    "import os\n",
    "import sys\n",
    "import datetime\n",
    "import torch\n",
    "print(f\"{sys.executable} {datetime.datetime.now()}\")"
   ]
  },
  {
   "cell_type": "code",
   "execution_count": 9,
   "id": "281e52fa",
   "metadata": {},
   "outputs": [
    {
     "data": {
      "text/plain": [
       "[]"
      ]
     },
     "execution_count": 9,
     "metadata": {},
     "output_type": "execute_result"
    }
   ],
   "source": [
    "def getdir(obj, excl_start=\"_\", incl_end=\"\", incl_start=\"\"):\n",
    "    res = [x for x in dir(obj) if (not x.startswith(excl_start)) and (x.endswith(incl_end))\n",
    "          and (x.startswith(incl_start))]\n",
    "    return res\n",
    "getdir(torch.rand, incl_start=\"ra\")"
   ]
  },
  {
   "cell_type": "code",
   "execution_count": 3,
   "id": "69c7e744",
   "metadata": {},
   "outputs": [
    {
     "name": "stdout",
     "output_type": "stream",
     "text": [
      "True\n",
      "tensor([[0.4202, 0.6403],\n",
      "        [0.6680, 0.2178]])\n"
     ]
    }
   ],
   "source": [
    "print(torch.cuda.is_available())\n",
    "print(torch.rand(2,2))"
   ]
  },
  {
   "cell_type": "code",
   "execution_count": 19,
   "id": "f6d99430",
   "metadata": {},
   "outputs": [
    {
     "name": "stdout",
     "output_type": "stream",
     "text": [
      "cpu\n",
      "cuda:0\n"
     ]
    }
   ],
   "source": [
    "cpu_tensor = torch.rand(10**8)\n",
    "print(cpu_tensor.device)\n",
    "\n",
    "\n",
    "gpu_tensor = cpu_tensor.to(\"cuda\")\n",
    "print(gpu_tensor.device)\n"
   ]
  },
  {
   "cell_type": "code",
   "execution_count": 20,
   "id": "b84b2ff7",
   "metadata": {},
   "outputs": [
    {
     "data": {
      "text/plain": [
       "torch.Size([100000000])"
      ]
     },
     "execution_count": 20,
     "metadata": {},
     "output_type": "execute_result"
    }
   ],
   "source": [
    "cpu_tensor.shape"
   ]
  },
  {
   "cell_type": "code",
   "execution_count": null,
   "id": "0b805c19",
   "metadata": {},
   "outputs": [],
   "source": []
  }
 ],
 "metadata": {
  "kernelspec": {
   "display_name": "pgenv",
   "language": "python",
   "name": "pgenv"
  },
  "language_info": {
   "codemirror_mode": {
    "name": "ipython",
    "version": 3
   },
   "file_extension": ".py",
   "mimetype": "text/x-python",
   "name": "python",
   "nbconvert_exporter": "python",
   "pygments_lexer": "ipython3",
   "version": "3.8.13"
  }
 },
 "nbformat": 4,
 "nbformat_minor": 5
}
